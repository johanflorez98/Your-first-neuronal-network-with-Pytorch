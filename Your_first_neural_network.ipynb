{
 "cells": [
  {
   "attachments": {},
   "cell_type": "markdown",
   "metadata": {},
   "source": [
    "# Tu primera red neuronal \n",
    "\n",
    "En este proyecto, construirás tu primera red neuronal y la usarás para predecir el número de usuarios diarios de alquiler de bicicletas. Proporcionamos parte del código, pero dejamos la implementación de la red neuronal en tus manos (en su mayor parte). Una vez que hayas entregado este proyecto, no dudes en explorar más los datos y el modelo."
   ]
  },
  {
   "cell_type": "code",
   "execution_count": 1,
   "metadata": {},
   "outputs": [
    {
     "name": "stderr",
     "output_type": "stream",
     "text": [
      "c:\\Users\\comunicaciones\\Anaconda3\\envs\\radeon\\lib\\site-packages\\tqdm\\auto.py:22: TqdmWarning: IProgress not found. Please update jupyter and ipywidgets. See https://ipywidgets.readthedocs.io/en/stable/user_install.html\n",
      "  from .autonotebook import tqdm as notebook_tqdm\n"
     ]
    }
   ],
   "source": [
    "%matplotlib inline\n",
    "%load_ext autoreload\n",
    "%autoreload 2\n",
    "%config InlineBackend.figure_format = 'retina'\n",
    "\n",
    "import numpy as np\n",
    "import pandas as pd\n",
    "import matplotlib.pyplot as plt\n",
    "import torch\n",
    "from torch import nn, optim\n",
    "import torch.nn.functional as F\n",
    "from torch.utils.data import TensorDataset, DataLoader"
   ]
  },
  {
   "cell_type": "code",
   "execution_count": 2,
   "metadata": {},
   "outputs": [
    {
     "name": "stdout",
     "output_type": "stream",
     "text": [
      "False\n"
     ]
    }
   ],
   "source": [
    "# comprobar si CUDA está disponible\n",
    "train_on_gpu = torch.cuda.is_available()\n",
    "print(train_on_gpu)"
   ]
  },
  {
   "cell_type": "markdown",
   "metadata": {},
   "source": [
    "## Cargar y preparar los datos\n",
    "\n",
    "Un paso crítico para trabajar con redes neuronales es preparar los datos correctamente. Las variables en diferentes escalas dificultan que la red aprenda de manera eficiente los pesos correctos. A continuación, hemos escrito el código para cargar y preparar los datos. ¡Te invito a buscar más información!"
   ]
  },
  {
   "cell_type": "code",
   "execution_count": 3,
   "metadata": {},
   "outputs": [],
   "source": [
    "data_path = 'C:/Users/comunicaciones/Documents/johan/Maestria/Aprendizaje profundo/Taller 1/hour.csv'\n",
    "\n",
    "rides = pd.read_csv(data_path)"
   ]
  },
  {
   "cell_type": "code",
   "execution_count": 4,
   "metadata": {},
   "outputs": [
    {
     "data": {
      "text/html": [
       "<div>\n",
       "<style scoped>\n",
       "    .dataframe tbody tr th:only-of-type {\n",
       "        vertical-align: middle;\n",
       "    }\n",
       "\n",
       "    .dataframe tbody tr th {\n",
       "        vertical-align: top;\n",
       "    }\n",
       "\n",
       "    .dataframe thead th {\n",
       "        text-align: right;\n",
       "    }\n",
       "</style>\n",
       "<table border=\"1\" class=\"dataframe\">\n",
       "  <thead>\n",
       "    <tr style=\"text-align: right;\">\n",
       "      <th></th>\n",
       "      <th>instant</th>\n",
       "      <th>dteday</th>\n",
       "      <th>season</th>\n",
       "      <th>yr</th>\n",
       "      <th>mnth</th>\n",
       "      <th>hr</th>\n",
       "      <th>holiday</th>\n",
       "      <th>weekday</th>\n",
       "      <th>workingday</th>\n",
       "      <th>weathersit</th>\n",
       "      <th>temp</th>\n",
       "      <th>atemp</th>\n",
       "      <th>hum</th>\n",
       "      <th>windspeed</th>\n",
       "      <th>casual</th>\n",
       "      <th>registered</th>\n",
       "      <th>cnt</th>\n",
       "    </tr>\n",
       "  </thead>\n",
       "  <tbody>\n",
       "    <tr>\n",
       "      <th>0</th>\n",
       "      <td>1</td>\n",
       "      <td>2011-01-01</td>\n",
       "      <td>1</td>\n",
       "      <td>0</td>\n",
       "      <td>1</td>\n",
       "      <td>0</td>\n",
       "      <td>0</td>\n",
       "      <td>6</td>\n",
       "      <td>0</td>\n",
       "      <td>1</td>\n",
       "      <td>0.24</td>\n",
       "      <td>0.2879</td>\n",
       "      <td>0.81</td>\n",
       "      <td>0.0</td>\n",
       "      <td>3</td>\n",
       "      <td>13</td>\n",
       "      <td>16</td>\n",
       "    </tr>\n",
       "    <tr>\n",
       "      <th>1</th>\n",
       "      <td>2</td>\n",
       "      <td>2011-01-01</td>\n",
       "      <td>1</td>\n",
       "      <td>0</td>\n",
       "      <td>1</td>\n",
       "      <td>1</td>\n",
       "      <td>0</td>\n",
       "      <td>6</td>\n",
       "      <td>0</td>\n",
       "      <td>1</td>\n",
       "      <td>0.22</td>\n",
       "      <td>0.2727</td>\n",
       "      <td>0.80</td>\n",
       "      <td>0.0</td>\n",
       "      <td>8</td>\n",
       "      <td>32</td>\n",
       "      <td>40</td>\n",
       "    </tr>\n",
       "    <tr>\n",
       "      <th>2</th>\n",
       "      <td>3</td>\n",
       "      <td>2011-01-01</td>\n",
       "      <td>1</td>\n",
       "      <td>0</td>\n",
       "      <td>1</td>\n",
       "      <td>2</td>\n",
       "      <td>0</td>\n",
       "      <td>6</td>\n",
       "      <td>0</td>\n",
       "      <td>1</td>\n",
       "      <td>0.22</td>\n",
       "      <td>0.2727</td>\n",
       "      <td>0.80</td>\n",
       "      <td>0.0</td>\n",
       "      <td>5</td>\n",
       "      <td>27</td>\n",
       "      <td>32</td>\n",
       "    </tr>\n",
       "    <tr>\n",
       "      <th>3</th>\n",
       "      <td>4</td>\n",
       "      <td>2011-01-01</td>\n",
       "      <td>1</td>\n",
       "      <td>0</td>\n",
       "      <td>1</td>\n",
       "      <td>3</td>\n",
       "      <td>0</td>\n",
       "      <td>6</td>\n",
       "      <td>0</td>\n",
       "      <td>1</td>\n",
       "      <td>0.24</td>\n",
       "      <td>0.2879</td>\n",
       "      <td>0.75</td>\n",
       "      <td>0.0</td>\n",
       "      <td>3</td>\n",
       "      <td>10</td>\n",
       "      <td>13</td>\n",
       "    </tr>\n",
       "    <tr>\n",
       "      <th>4</th>\n",
       "      <td>5</td>\n",
       "      <td>2011-01-01</td>\n",
       "      <td>1</td>\n",
       "      <td>0</td>\n",
       "      <td>1</td>\n",
       "      <td>4</td>\n",
       "      <td>0</td>\n",
       "      <td>6</td>\n",
       "      <td>0</td>\n",
       "      <td>1</td>\n",
       "      <td>0.24</td>\n",
       "      <td>0.2879</td>\n",
       "      <td>0.75</td>\n",
       "      <td>0.0</td>\n",
       "      <td>0</td>\n",
       "      <td>1</td>\n",
       "      <td>1</td>\n",
       "    </tr>\n",
       "  </tbody>\n",
       "</table>\n",
       "</div>"
      ],
      "text/plain": [
       "   instant      dteday  season  yr  mnth  hr  holiday  weekday  workingday  \\\n",
       "0        1  2011-01-01       1   0     1   0        0        6           0   \n",
       "1        2  2011-01-01       1   0     1   1        0        6           0   \n",
       "2        3  2011-01-01       1   0     1   2        0        6           0   \n",
       "3        4  2011-01-01       1   0     1   3        0        6           0   \n",
       "4        5  2011-01-01       1   0     1   4        0        6           0   \n",
       "\n",
       "   weathersit  temp   atemp   hum  windspeed  casual  registered  cnt  \n",
       "0           1  0.24  0.2879  0.81        0.0       3          13   16  \n",
       "1           1  0.22  0.2727  0.80        0.0       8          32   40  \n",
       "2           1  0.22  0.2727  0.80        0.0       5          27   32  \n",
       "3           1  0.24  0.2879  0.75        0.0       3          10   13  \n",
       "4           1  0.24  0.2879  0.75        0.0       0           1    1  "
      ]
     },
     "execution_count": 4,
     "metadata": {},
     "output_type": "execute_result"
    }
   ],
   "source": [
    "rides.head()"
   ]
  },
  {
   "cell_type": "markdown",
   "metadata": {},
   "source": [
    "## Verificando los datos\n",
    "\n",
    "Este conjunto de datos tiene el número de ciclistas para cada hora de cada día desde el 1 de enero de 2011 hasta el 31 de diciembre de 2012. El número de ciclistas se divide entre ocasionales y registrados, resumidos en la columna `cnt`. Puedes ver las primeras filas de los datos anteriores.\n",
    "\n",
    "A continuación se muestra un gráfico que muestra el número de ciclistas durante los primeros 10 días en el conjunto de datos. (Algunos días no tienen exactamente 24 entradas en el conjunto de datos, por lo que no son exactamente 10 días). Puedes ver los alquileres por hora aquí. ¡Estos datos son bastante complicados! Los fines de semana tienen un menor número total de pasajeros y hay picos cuando las personas van y vienen del trabajo en bicicleta durante la semana. Al observar los datos anteriores, también tenemos información sobre la temperatura, la humedad y la velocidad del viento, que probablemente afecten la cantidad de ciclistas. Intentarás capturar todo esto con tu modelo."
   ]
  },
  {
   "cell_type": "code",
   "execution_count": 5,
   "metadata": {},
   "outputs": [
    {
     "data": {
      "text/plain": [
       "<AxesSubplot:xlabel='dteday'>"
      ]
     },
     "execution_count": 5,
     "metadata": {},
     "output_type": "execute_result"
    },
    {
     "data": {
      "image/png": "[encoded data removed]",
      "text/plain": [
       "<Figure size 432x288 with 1 Axes>"
      ]
     },
     "metadata": {
      "image/png": {
       "height": 261,
       "width": 375
      },
      "needs_background": "light"
     },
     "output_type": "display_data"
    }
   ],
   "source": [
    "rides[:24*10].plot(x='dteday', y='cnt')"
   ]
  },
  {
   "cell_type": "markdown",
   "metadata": {},
   "source": [
    "### Variables Dummy\n",
    "Aquí tenemos algunas variables categóricas como estación, clima, mes. Para incluirlos en nuestro modelo, necesitaremos crear variables ficticias binarias. Esto es fácil de hacer con Pandas gracias a `get_dummies()`."
   ]
  },
  {
   "cell_type": "code",
   "execution_count": 6,
   "metadata": {},
   "outputs": [
    {
     "data": {
      "text/html": [
       "<div>\n",
       "<style scoped>\n",
       "    .dataframe tbody tr th:only-of-type {\n",
       "        vertical-align: middle;\n",
       "    }\n",
       "\n",
       "    .dataframe tbody tr th {\n",
       "        vertical-align: top;\n",
       "    }\n",
       "\n",
       "    .dataframe thead th {\n",
       "        text-align: right;\n",
       "    }\n",
       "</style>\n",
       "<table border=\"1\" class=\"dataframe\">\n",
       "  <thead>\n",
       "    <tr style=\"text-align: right;\">\n",
       "      <th></th>\n",
       "      <th>yr</th>\n",
       "      <th>holiday</th>\n",
       "      <th>temp</th>\n",
       "      <th>hum</th>\n",
       "      <th>windspeed</th>\n",
       "      <th>casual</th>\n",
       "      <th>registered</th>\n",
       "      <th>cnt</th>\n",
       "      <th>season_1</th>\n",
       "      <th>season_2</th>\n",
       "      <th>...</th>\n",
       "      <th>hr_21</th>\n",
       "      <th>hr_22</th>\n",
       "      <th>hr_23</th>\n",
       "      <th>weekday_0</th>\n",
       "      <th>weekday_1</th>\n",
       "      <th>weekday_2</th>\n",
       "      <th>weekday_3</th>\n",
       "      <th>weekday_4</th>\n",
       "      <th>weekday_5</th>\n",
       "      <th>weekday_6</th>\n",
       "    </tr>\n",
       "  </thead>\n",
       "  <tbody>\n",
       "    <tr>\n",
       "      <th>0</th>\n",
       "      <td>0</td>\n",
       "      <td>0</td>\n",
       "      <td>0.24</td>\n",
       "      <td>0.81</td>\n",
       "      <td>0.0</td>\n",
       "      <td>3</td>\n",
       "      <td>13</td>\n",
       "      <td>16</td>\n",
       "      <td>1</td>\n",
       "      <td>0</td>\n",
       "      <td>...</td>\n",
       "      <td>0</td>\n",
       "      <td>0</td>\n",
       "      <td>0</td>\n",
       "      <td>0</td>\n",
       "      <td>0</td>\n",
       "      <td>0</td>\n",
       "      <td>0</td>\n",
       "      <td>0</td>\n",
       "      <td>0</td>\n",
       "      <td>1</td>\n",
       "    </tr>\n",
       "    <tr>\n",
       "      <th>1</th>\n",
       "      <td>0</td>\n",
       "      <td>0</td>\n",
       "      <td>0.22</td>\n",
       "      <td>0.80</td>\n",
       "      <td>0.0</td>\n",
       "      <td>8</td>\n",
       "      <td>32</td>\n",
       "      <td>40</td>\n",
       "      <td>1</td>\n",
       "      <td>0</td>\n",
       "      <td>...</td>\n",
       "      <td>0</td>\n",
       "      <td>0</td>\n",
       "      <td>0</td>\n",
       "      <td>0</td>\n",
       "      <td>0</td>\n",
       "      <td>0</td>\n",
       "      <td>0</td>\n",
       "      <td>0</td>\n",
       "      <td>0</td>\n",
       "      <td>1</td>\n",
       "    </tr>\n",
       "    <tr>\n",
       "      <th>2</th>\n",
       "      <td>0</td>\n",
       "      <td>0</td>\n",
       "      <td>0.22</td>\n",
       "      <td>0.80</td>\n",
       "      <td>0.0</td>\n",
       "      <td>5</td>\n",
       "      <td>27</td>\n",
       "      <td>32</td>\n",
       "      <td>1</td>\n",
       "      <td>0</td>\n",
       "      <td>...</td>\n",
       "      <td>0</td>\n",
       "      <td>0</td>\n",
       "      <td>0</td>\n",
       "      <td>0</td>\n",
       "      <td>0</td>\n",
       "      <td>0</td>\n",
       "      <td>0</td>\n",
       "      <td>0</td>\n",
       "      <td>0</td>\n",
       "      <td>1</td>\n",
       "    </tr>\n",
       "    <tr>\n",
       "      <th>3</th>\n",
       "      <td>0</td>\n",
       "      <td>0</td>\n",
       "      <td>0.24</td>\n",
       "      <td>0.75</td>\n",
       "      <td>0.0</td>\n",
       "      <td>3</td>\n",
       "      <td>10</td>\n",
       "      <td>13</td>\n",
       "      <td>1</td>\n",
       "      <td>0</td>\n",
       "      <td>...</td>\n",
       "      <td>0</td>\n",
       "      <td>0</td>\n",
       "      <td>0</td>\n",
       "      <td>0</td>\n",
       "      <td>0</td>\n",
       "      <td>0</td>\n",
       "      <td>0</td>\n",
       "      <td>0</td>\n",
       "      <td>0</td>\n",
       "      <td>1</td>\n",
       "    </tr>\n",
       "    <tr>\n",
       "      <th>4</th>\n",
       "      <td>0</td>\n",
       "      <td>0</td>\n",
       "      <td>0.24</td>\n",
       "      <td>0.75</td>\n",
       "      <td>0.0</td>\n",
       "      <td>0</td>\n",
       "      <td>1</td>\n",
       "      <td>1</td>\n",
       "      <td>1</td>\n",
       "      <td>0</td>\n",
       "      <td>...</td>\n",
       "      <td>0</td>\n",
       "      <td>0</td>\n",
       "      <td>0</td>\n",
       "      <td>0</td>\n",
       "      <td>0</td>\n",
       "      <td>0</td>\n",
       "      <td>0</td>\n",
       "      <td>0</td>\n",
       "      <td>0</td>\n",
       "      <td>1</td>\n",
       "    </tr>\n",
       "  </tbody>\n",
       "</table>\n",
       "<p>5 rows × 59 columns</p>\n",
       "</div>"
      ],
      "text/plain": [
       "   yr  holiday  temp   hum  windspeed  casual  registered  cnt  season_1  \\\n",
       "0   0        0  0.24  0.81        0.0       3          13   16         1   \n",
       "1   0        0  0.22  0.80        0.0       8          32   40         1   \n",
       "2   0        0  0.22  0.80        0.0       5          27   32         1   \n",
       "3   0        0  0.24  0.75        0.0       3          10   13         1   \n",
       "4   0        0  0.24  0.75        0.0       0           1    1         1   \n",
       "\n",
       "   season_2  ...  hr_21  hr_22  hr_23  weekday_0  weekday_1  weekday_2  \\\n",
       "0         0  ...      0      0      0          0          0          0   \n",
       "1         0  ...      0      0      0          0          0          0   \n",
       "2         0  ...      0      0      0          0          0          0   \n",
       "3         0  ...      0      0      0          0          0          0   \n",
       "4         0  ...      0      0      0          0          0          0   \n",
       "\n",
       "   weekday_3  weekday_4  weekday_5  weekday_6  \n",
       "0          0          0          0          1  \n",
       "1          0          0          0          1  \n",
       "2          0          0          0          1  \n",
       "3          0          0          0          1  \n",
       "4          0          0          0          1  \n",
       "\n",
       "[5 rows x 59 columns]"
      ]
     },
     "execution_count": 6,
     "metadata": {},
     "output_type": "execute_result"
    }
   ],
   "source": [
    "dummy_fields = ['season', 'weathersit', 'mnth', 'hr', 'weekday']\n",
    "for each in dummy_fields:\n",
    "    dummies = pd.get_dummies(rides[each], prefix=each, drop_first=False)\n",
    "    rides = pd.concat([rides, dummies], axis=1)\n",
    "\n",
    "fields_to_drop = ['instant', 'dteday', 'season', 'weathersit', \n",
    "                  'weekday', 'atemp', 'mnth', 'workingday', 'hr']\n",
    "data = rides.drop(fields_to_drop, axis=1)\n",
    "data.head()"
   ]
  },
  {
   "cell_type": "markdown",
   "metadata": {},
   "source": [
    "### Escalando variables\n",
    "Para facilitar el entrenamiento de la red, estandarizaremos cada una de las variables continuas. Es decir, desplazaremos y escalaremos las variables de modo que tengan una media cero y una desviación estándar de 1.\n",
    "\n",
    "Los factores de escala se guardan para que podamos retroceder cuando usamos la red para las predicciones."
   ]
  },
  {
   "cell_type": "code",
   "execution_count": 7,
   "metadata": {},
   "outputs": [],
   "source": [
    "quant_features = ['casual', 'registered', 'cnt', 'temp', 'hum', 'windspeed']\n",
    "# Guarde las escalas en un diccionario para que podamos volver a convertirlas más tarde\n",
    "scaled_features = {}"
   ]
  },
  {
   "cell_type": "markdown",
   "metadata": {},
   "source": [
    "#### Aquí se elige un tipo de normalization. Se pueden normalizar los datos enbase al valor máximo o a la desviación estandar y al promedio.\n",
    "#### En este caso se corre con la normalización recomendada por el docente mean_std:\n"
   ]
  },
  {
   "cell_type": "code",
   "execution_count": null,
   "metadata": {},
   "outputs": [],
   "source": [
    "normalization = 'mean_std'\n",
    "\n",
    "if normalization == 'mean_std':\n",
    "    for each in quant_features:\n",
    "        mean, std = data[each].mean(), data[each].std()\n",
    "        scaled_features[each] = [mean, std]\n",
    "        data.loc[:, each] = (data[each] - mean)/std\n",
    "else:\n",
    "    for each in quant_features:\n",
    "        maxim = data[each].max()\n",
    "        scaled_features[each] = maxim\n",
    "        data.loc[:, each] = data[each]/maxim"
   ]
  },
  {
   "cell_type": "code",
   "execution_count": 8,
   "metadata": {},
   "outputs": [
    {
     "data": {
      "text/plain": [
       "\"quant_features = ['casual', 'registered', 'cnt', 'temp', 'hum', 'windspeed']\\n# Guarde las escalas en un diccionario para que podamos volver a convertirlas más tarde\\nscaled_features = {}\\nfor each in quant_features:\\n    maxim = data[each].max()\\n    scaled_features[each] = maxim\\n    data.loc[:, each] = data[each]/maxim\""
      ]
     },
     "execution_count": 8,
     "metadata": {},
     "output_type": "execute_result"
    }
   ],
   "source": [
    "quant_features = ['casual', 'registered', 'cnt', 'temp', 'hum', 'windspeed']\n",
    "# Guarde las escalas en un diccionario para que podamos volver a convertirlas más tarde\n",
    "scaled_features = {}\n"
   ]
  },
  {
   "cell_type": "code",
   "execution_count": 9,
   "metadata": {},
   "outputs": [
    {
     "data": {
      "text/html": [
       "<div>\n",
       "<style scoped>\n",
       "    .dataframe tbody tr th:only-of-type {\n",
       "        vertical-align: middle;\n",
       "    }\n",
       "\n",
       "    .dataframe tbody tr th {\n",
       "        vertical-align: top;\n",
       "    }\n",
       "\n",
       "    .dataframe thead th {\n",
       "        text-align: right;\n",
       "    }\n",
       "</style>\n",
       "<table border=\"1\" class=\"dataframe\">\n",
       "  <thead>\n",
       "    <tr style=\"text-align: right;\">\n",
       "      <th></th>\n",
       "      <th>yr</th>\n",
       "      <th>holiday</th>\n",
       "      <th>temp</th>\n",
       "      <th>hum</th>\n",
       "      <th>windspeed</th>\n",
       "      <th>casual</th>\n",
       "      <th>registered</th>\n",
       "      <th>cnt</th>\n",
       "      <th>season_1</th>\n",
       "      <th>season_2</th>\n",
       "      <th>...</th>\n",
       "      <th>hr_21</th>\n",
       "      <th>hr_22</th>\n",
       "      <th>hr_23</th>\n",
       "      <th>weekday_0</th>\n",
       "      <th>weekday_1</th>\n",
       "      <th>weekday_2</th>\n",
       "      <th>weekday_3</th>\n",
       "      <th>weekday_4</th>\n",
       "      <th>weekday_5</th>\n",
       "      <th>weekday_6</th>\n",
       "    </tr>\n",
       "  </thead>\n",
       "  <tbody>\n",
       "    <tr>\n",
       "      <th>0</th>\n",
       "      <td>0</td>\n",
       "      <td>0</td>\n",
       "      <td>-1.334609</td>\n",
       "      <td>0.947345</td>\n",
       "      <td>-1.553844</td>\n",
       "      <td>-0.662736</td>\n",
       "      <td>-0.930162</td>\n",
       "      <td>-0.956312</td>\n",
       "      <td>1</td>\n",
       "      <td>0</td>\n",
       "      <td>...</td>\n",
       "      <td>0</td>\n",
       "      <td>0</td>\n",
       "      <td>0</td>\n",
       "      <td>0</td>\n",
       "      <td>0</td>\n",
       "      <td>0</td>\n",
       "      <td>0</td>\n",
       "      <td>0</td>\n",
       "      <td>0</td>\n",
       "      <td>1</td>\n",
       "    </tr>\n",
       "    <tr>\n",
       "      <th>1</th>\n",
       "      <td>0</td>\n",
       "      <td>0</td>\n",
       "      <td>-1.438475</td>\n",
       "      <td>0.895513</td>\n",
       "      <td>-1.553844</td>\n",
       "      <td>-0.561326</td>\n",
       "      <td>-0.804632</td>\n",
       "      <td>-0.823998</td>\n",
       "      <td>1</td>\n",
       "      <td>0</td>\n",
       "      <td>...</td>\n",
       "      <td>0</td>\n",
       "      <td>0</td>\n",
       "      <td>0</td>\n",
       "      <td>0</td>\n",
       "      <td>0</td>\n",
       "      <td>0</td>\n",
       "      <td>0</td>\n",
       "      <td>0</td>\n",
       "      <td>0</td>\n",
       "      <td>1</td>\n",
       "    </tr>\n",
       "    <tr>\n",
       "      <th>2</th>\n",
       "      <td>0</td>\n",
       "      <td>0</td>\n",
       "      <td>-1.438475</td>\n",
       "      <td>0.895513</td>\n",
       "      <td>-1.553844</td>\n",
       "      <td>-0.622172</td>\n",
       "      <td>-0.837666</td>\n",
       "      <td>-0.868103</td>\n",
       "      <td>1</td>\n",
       "      <td>0</td>\n",
       "      <td>...</td>\n",
       "      <td>0</td>\n",
       "      <td>0</td>\n",
       "      <td>0</td>\n",
       "      <td>0</td>\n",
       "      <td>0</td>\n",
       "      <td>0</td>\n",
       "      <td>0</td>\n",
       "      <td>0</td>\n",
       "      <td>0</td>\n",
       "      <td>1</td>\n",
       "    </tr>\n",
       "    <tr>\n",
       "      <th>3</th>\n",
       "      <td>0</td>\n",
       "      <td>0</td>\n",
       "      <td>-1.334609</td>\n",
       "      <td>0.636351</td>\n",
       "      <td>-1.553844</td>\n",
       "      <td>-0.662736</td>\n",
       "      <td>-0.949983</td>\n",
       "      <td>-0.972851</td>\n",
       "      <td>1</td>\n",
       "      <td>0</td>\n",
       "      <td>...</td>\n",
       "      <td>0</td>\n",
       "      <td>0</td>\n",
       "      <td>0</td>\n",
       "      <td>0</td>\n",
       "      <td>0</td>\n",
       "      <td>0</td>\n",
       "      <td>0</td>\n",
       "      <td>0</td>\n",
       "      <td>0</td>\n",
       "      <td>1</td>\n",
       "    </tr>\n",
       "    <tr>\n",
       "      <th>4</th>\n",
       "      <td>0</td>\n",
       "      <td>0</td>\n",
       "      <td>-1.334609</td>\n",
       "      <td>0.636351</td>\n",
       "      <td>-1.553844</td>\n",
       "      <td>-0.723582</td>\n",
       "      <td>-1.009445</td>\n",
       "      <td>-1.039008</td>\n",
       "      <td>1</td>\n",
       "      <td>0</td>\n",
       "      <td>...</td>\n",
       "      <td>0</td>\n",
       "      <td>0</td>\n",
       "      <td>0</td>\n",
       "      <td>0</td>\n",
       "      <td>0</td>\n",
       "      <td>0</td>\n",
       "      <td>0</td>\n",
       "      <td>0</td>\n",
       "      <td>0</td>\n",
       "      <td>1</td>\n",
       "    </tr>\n",
       "  </tbody>\n",
       "</table>\n",
       "<p>5 rows × 59 columns</p>\n",
       "</div>"
      ],
      "text/plain": [
       "   yr  holiday      temp       hum  windspeed    casual  registered       cnt  \\\n",
       "0   0        0 -1.334609  0.947345  -1.553844 -0.662736   -0.930162 -0.956312   \n",
       "1   0        0 -1.438475  0.895513  -1.553844 -0.561326   -0.804632 -0.823998   \n",
       "2   0        0 -1.438475  0.895513  -1.553844 -0.622172   -0.837666 -0.868103   \n",
       "3   0        0 -1.334609  0.636351  -1.553844 -0.662736   -0.949983 -0.972851   \n",
       "4   0        0 -1.334609  0.636351  -1.553844 -0.723582   -1.009445 -1.039008   \n",
       "\n",
       "   season_1  season_2  ...  hr_21  hr_22  hr_23  weekday_0  weekday_1  \\\n",
       "0         1         0  ...      0      0      0          0          0   \n",
       "1         1         0  ...      0      0      0          0          0   \n",
       "2         1         0  ...      0      0      0          0          0   \n",
       "3         1         0  ...      0      0      0          0          0   \n",
       "4         1         0  ...      0      0      0          0          0   \n",
       "\n",
       "   weekday_2  weekday_3  weekday_4  weekday_5  weekday_6  \n",
       "0          0          0          0          0          1  \n",
       "1          0          0          0          0          1  \n",
       "2          0          0          0          0          1  \n",
       "3          0          0          0          0          1  \n",
       "4          0          0          0          0          1  \n",
       "\n",
       "[5 rows x 59 columns]"
      ]
     },
     "execution_count": 9,
     "metadata": {},
     "output_type": "execute_result"
    }
   ],
   "source": [
    "data.head()"
   ]
  },
  {
   "cell_type": "markdown",
   "metadata": {},
   "source": [
    "### Dividir los datos en conjuntos de entrenamiento, prueba y validación\n",
    "\n",
    "Guardaremos los datos de los últimos 21 días aproximadamente para usarlos como conjunto de prueba después de haber entrenado la red. Usaremos este conjunto para hacer predicciones y compararlas con el número real de ciclistas."
   ]
  },
  {
   "cell_type": "code",
   "execution_count": 10,
   "metadata": {},
   "outputs": [],
   "source": [
    "# Guardar datos de aproximadamente los últimos 21 días\n",
    "test_data = data[-21*24:]\n",
    "\n",
    "# Ahora elimine los datos de prueba del conjunto de datos \n",
    "data = data[:-21*24]\n",
    "\n",
    "# Separar los datos en características y objetivos\n",
    "target_fields = ['cnt']#, 'casual', 'registered']\n",
    "features, targets = data.drop(target_fields, axis=1), data[target_fields]\n",
    "test_features, test_targets = test_data.drop(target_fields, axis=1), test_data[target_fields]"
   ]
  },
  {
   "cell_type": "markdown",
   "metadata": {},
   "source": [
    "Dividiremos los datos en dos conjuntos, uno para el entrenamiento y otro para la validación a medida que se entrena la red. Dado que se trata de datos de series temporales, entrenaremos con datos históricos y luego intentaremos predecir con datos futuros (el conjunto de validación)."
   ]
  },
  {
   "cell_type": "code",
   "execution_count": 11,
   "metadata": {},
   "outputs": [],
   "source": [
    "# Mantenga los últimos 60 días de los datos restantes como un conjunto de validación\n",
    "train_features, train_targets = features[:-60*24], targets[:-60*24]\n",
    "val_features, val_targets = features[-60*24:], targets[-60*24:]"
   ]
  },
  {
   "cell_type": "code",
   "execution_count": 12,
   "metadata": {},
   "outputs": [
    {
     "data": {
      "text/html": [
       "<div>\n",
       "<style scoped>\n",
       "    .dataframe tbody tr th:only-of-type {\n",
       "        vertical-align: middle;\n",
       "    }\n",
       "\n",
       "    .dataframe tbody tr th {\n",
       "        vertical-align: top;\n",
       "    }\n",
       "\n",
       "    .dataframe thead th {\n",
       "        text-align: right;\n",
       "    }\n",
       "</style>\n",
       "<table border=\"1\" class=\"dataframe\">\n",
       "  <thead>\n",
       "    <tr style=\"text-align: right;\">\n",
       "      <th></th>\n",
       "      <th>yr</th>\n",
       "      <th>holiday</th>\n",
       "      <th>temp</th>\n",
       "      <th>hum</th>\n",
       "      <th>windspeed</th>\n",
       "      <th>casual</th>\n",
       "      <th>registered</th>\n",
       "      <th>cnt</th>\n",
       "      <th>season_1</th>\n",
       "      <th>season_2</th>\n",
       "      <th>...</th>\n",
       "      <th>hr_21</th>\n",
       "      <th>hr_22</th>\n",
       "      <th>hr_23</th>\n",
       "      <th>weekday_0</th>\n",
       "      <th>weekday_1</th>\n",
       "      <th>weekday_2</th>\n",
       "      <th>weekday_3</th>\n",
       "      <th>weekday_4</th>\n",
       "      <th>weekday_5</th>\n",
       "      <th>weekday_6</th>\n",
       "    </tr>\n",
       "  </thead>\n",
       "  <tbody>\n",
       "    <tr>\n",
       "      <th>0</th>\n",
       "      <td>0</td>\n",
       "      <td>0</td>\n",
       "      <td>-1.334609</td>\n",
       "      <td>0.947345</td>\n",
       "      <td>-1.553844</td>\n",
       "      <td>-0.662736</td>\n",
       "      <td>-0.930162</td>\n",
       "      <td>-0.956312</td>\n",
       "      <td>1</td>\n",
       "      <td>0</td>\n",
       "      <td>...</td>\n",
       "      <td>0</td>\n",
       "      <td>0</td>\n",
       "      <td>0</td>\n",
       "      <td>0</td>\n",
       "      <td>0</td>\n",
       "      <td>0</td>\n",
       "      <td>0</td>\n",
       "      <td>0</td>\n",
       "      <td>0</td>\n",
       "      <td>1</td>\n",
       "    </tr>\n",
       "    <tr>\n",
       "      <th>1</th>\n",
       "      <td>0</td>\n",
       "      <td>0</td>\n",
       "      <td>-1.438475</td>\n",
       "      <td>0.895513</td>\n",
       "      <td>-1.553844</td>\n",
       "      <td>-0.561326</td>\n",
       "      <td>-0.804632</td>\n",
       "      <td>-0.823998</td>\n",
       "      <td>1</td>\n",
       "      <td>0</td>\n",
       "      <td>...</td>\n",
       "      <td>0</td>\n",
       "      <td>0</td>\n",
       "      <td>0</td>\n",
       "      <td>0</td>\n",
       "      <td>0</td>\n",
       "      <td>0</td>\n",
       "      <td>0</td>\n",
       "      <td>0</td>\n",
       "      <td>0</td>\n",
       "      <td>1</td>\n",
       "    </tr>\n",
       "    <tr>\n",
       "      <th>2</th>\n",
       "      <td>0</td>\n",
       "      <td>0</td>\n",
       "      <td>-1.438475</td>\n",
       "      <td>0.895513</td>\n",
       "      <td>-1.553844</td>\n",
       "      <td>-0.622172</td>\n",
       "      <td>-0.837666</td>\n",
       "      <td>-0.868103</td>\n",
       "      <td>1</td>\n",
       "      <td>0</td>\n",
       "      <td>...</td>\n",
       "      <td>0</td>\n",
       "      <td>0</td>\n",
       "      <td>0</td>\n",
       "      <td>0</td>\n",
       "      <td>0</td>\n",
       "      <td>0</td>\n",
       "      <td>0</td>\n",
       "      <td>0</td>\n",
       "      <td>0</td>\n",
       "      <td>1</td>\n",
       "    </tr>\n",
       "    <tr>\n",
       "      <th>3</th>\n",
       "      <td>0</td>\n",
       "      <td>0</td>\n",
       "      <td>-1.334609</td>\n",
       "      <td>0.636351</td>\n",
       "      <td>-1.553844</td>\n",
       "      <td>-0.662736</td>\n",
       "      <td>-0.949983</td>\n",
       "      <td>-0.972851</td>\n",
       "      <td>1</td>\n",
       "      <td>0</td>\n",
       "      <td>...</td>\n",
       "      <td>0</td>\n",
       "      <td>0</td>\n",
       "      <td>0</td>\n",
       "      <td>0</td>\n",
       "      <td>0</td>\n",
       "      <td>0</td>\n",
       "      <td>0</td>\n",
       "      <td>0</td>\n",
       "      <td>0</td>\n",
       "      <td>1</td>\n",
       "    </tr>\n",
       "    <tr>\n",
       "      <th>4</th>\n",
       "      <td>0</td>\n",
       "      <td>0</td>\n",
       "      <td>-1.334609</td>\n",
       "      <td>0.636351</td>\n",
       "      <td>-1.553844</td>\n",
       "      <td>-0.723582</td>\n",
       "      <td>-1.009445</td>\n",
       "      <td>-1.039008</td>\n",
       "      <td>1</td>\n",
       "      <td>0</td>\n",
       "      <td>...</td>\n",
       "      <td>0</td>\n",
       "      <td>0</td>\n",
       "      <td>0</td>\n",
       "      <td>0</td>\n",
       "      <td>0</td>\n",
       "      <td>0</td>\n",
       "      <td>0</td>\n",
       "      <td>0</td>\n",
       "      <td>0</td>\n",
       "      <td>1</td>\n",
       "    </tr>\n",
       "  </tbody>\n",
       "</table>\n",
       "<p>5 rows × 59 columns</p>\n",
       "</div>"
      ],
      "text/plain": [
       "   yr  holiday      temp       hum  windspeed    casual  registered       cnt  \\\n",
       "0   0        0 -1.334609  0.947345  -1.553844 -0.662736   -0.930162 -0.956312   \n",
       "1   0        0 -1.438475  0.895513  -1.553844 -0.561326   -0.804632 -0.823998   \n",
       "2   0        0 -1.438475  0.895513  -1.553844 -0.622172   -0.837666 -0.868103   \n",
       "3   0        0 -1.334609  0.636351  -1.553844 -0.662736   -0.949983 -0.972851   \n",
       "4   0        0 -1.334609  0.636351  -1.553844 -0.723582   -1.009445 -1.039008   \n",
       "\n",
       "   season_1  season_2  ...  hr_21  hr_22  hr_23  weekday_0  weekday_1  \\\n",
       "0         1         0  ...      0      0      0          0          0   \n",
       "1         1         0  ...      0      0      0          0          0   \n",
       "2         1         0  ...      0      0      0          0          0   \n",
       "3         1         0  ...      0      0      0          0          0   \n",
       "4         1         0  ...      0      0      0          0          0   \n",
       "\n",
       "   weekday_2  weekday_3  weekday_4  weekday_5  weekday_6  \n",
       "0          0          0          0          0          1  \n",
       "1          0          0          0          0          1  \n",
       "2          0          0          0          0          1  \n",
       "3          0          0          0          0          1  \n",
       "4          0          0          0          0          1  \n",
       "\n",
       "[5 rows x 59 columns]"
      ]
     },
     "execution_count": 12,
     "metadata": {},
     "output_type": "execute_result"
    }
   ],
   "source": [
    "data.head()\n"
   ]
  },
  {
   "cell_type": "markdown",
   "metadata": {},
   "source": [
    "### Creación de Cargadores"
   ]
  },
  {
   "cell_type": "markdown",
   "metadata": {},
   "source": [
    "De formato Pandas debemos cambiar nuestros datos a formato numpy"
   ]
  },
  {
   "cell_type": "code",
   "execution_count": 13,
   "metadata": {},
   "outputs": [],
   "source": [
    "train_features_np = train_features.to_numpy()\n",
    "val_features_np = val_features.to_numpy()\n",
    "test_features_np = test_features.to_numpy()\n",
    "train_targets_np = train_targets.to_numpy()\n",
    "val_targets_np = val_targets.to_numpy()\n",
    "test_targets_np = test_targets.to_numpy()"
   ]
  },
  {
   "cell_type": "markdown",
   "metadata": {},
   "source": [
    "Creamos tensores"
   ]
  },
  {
   "cell_type": "code",
   "execution_count": 14,
   "metadata": {},
   "outputs": [],
   "source": [
    "train_tensor = torch.tensor(train_features_np, dtype=torch.float)\n",
    "val_tensor = torch.tensor(val_features_np, dtype=torch.float)\n",
    "test_tensor = torch.tensor(test_features_np, dtype=torch.float)\n",
    "train_targets_tensor = torch.tensor(train_targets_np, dtype=torch.float)\n",
    "val_targets_tensor = torch.tensor(val_targets_np, dtype=torch.float)\n",
    "test_targets_tensor = torch.tensor(test_targets_np, dtype=torch.float)"
   ]
  },
  {
   "cell_type": "markdown",
   "metadata": {},
   "source": [
    "Definimos nuestro set de datos"
   ]
  },
  {
   "cell_type": "code",
   "execution_count": 15,
   "metadata": {},
   "outputs": [],
   "source": [
    "# Define dataset\n",
    "train_data = TensorDataset(train_tensor, train_targets_tensor)\n",
    "valid_data = TensorDataset(val_tensor, val_targets_tensor)\n",
    "test_data = TensorDataset(test_tensor, test_targets_tensor)"
   ]
  },
  {
   "cell_type": "markdown",
   "metadata": {},
   "source": [
    "Creamos dataloaders"
   ]
  },
  {
   "cell_type": "code",
   "execution_count": 16,
   "metadata": {},
   "outputs": [],
   "source": [
    "batch_size = 16\n",
    "train_loader = DataLoader(train_data, batch_size, shuffle=False)# shuffle=True)\n",
    "valid_loader = DataLoader(valid_data, batch_size, shuffle=False)# shuffle=True)\n",
    "test_loader = DataLoader(test_data, batch_size, shuffle=False)# shuffle=True)"
   ]
  },
  {
   "cell_type": "markdown",
   "metadata": {},
   "source": [
    "## Hora de construir la red\n",
    "\n",
    "A continuación, construirá su red. Hemos construido la estructura. Implementará tanto el pase hacia adelante como el pase hacia atrás a través de la red. También establecerá los hiperparámetros: la tasa de aprendizaje, la cantidad de unidades ocultas y la cantidad de pases de entrenamiento.\n",
    "\n",
    "La red tiene x capas, x capas ocultas y una capa de salida. Las capas ocultas utilizarán la función relu para las activaciones. La capa de salida tiene solo un nodo y se usa para la regresión, la salida del nodo es la misma que la entrada del nodo. Es decir, la función de activación es $f(x)=x$. Una función que toma la señal de entrada y genera una señal de salida, pero tiene en cuenta el umbral, se denomina función de activación. Trabajamos a través de cada capa de nuestra red calculando las salidas para cada neurona. Todas las salidas de una capa se convierten en entradas para las neuronas de la siguiente capa. Este proceso se llama *forward propagation*.\n",
    "\n",
    "Usamos los pesos para propagar señales hacia adelante desde la entrada a las capas de salida en una red neuronal. Usamos los pesos para propagar el error hacia atrás desde la salida a la red para actualizar nuestros pesos. Esto se llama *backpropagation*.\n",
    "\n",
    "\n",
    "\n",
    "A continuación, tienes estas tareas:\n",
    "1. Definir la arquitectura de tu red.\n",
    "2. Definir la función de costo y el optimizador.\n",
    "3. Entrenar el modelo.\n",
    "4. Visualizar las curvas de costo de entrenamiento y validación para verificar si estamos \"overfitting\" o no.\n",
    "5. Pasar los datos de testeo por el modelo pre-entrenado.\n",
    "6. Descalar y Visualiza las curvas de las predicciones vs los valores reales\n",
    "  "
   ]
  },
  {
   "cell_type": "code",
   "execution_count": 17,
   "metadata": {},
   "outputs": [
    {
     "name": "stdout",
     "output_type": "stream",
     "text": [
      "torch.Size([16, 58]) torch.Size([16, 1])\n"
     ]
    }
   ],
   "source": [
    "imgs, masks = next(iter(train_loader))\n",
    "print(imgs.shape, masks.shape)"
   ]
  },
  {
   "cell_type": "markdown",
   "metadata": {},
   "source": [
    "### 1- Definir la arquitectura de tu modelo"
   ]
  },
  {
   "cell_type": "code",
   "execution_count": 18,
   "metadata": {},
   "outputs": [],
   "source": [
    "#Define la aquitectura\n",
    "class Classifier(nn.Module):\n",
    "    def __init__(self):\n",
    "        super().__init__()\n",
    "        \n",
    "        self.fc1 = nn.Linear(58, 128)\n",
    "        self.fc2 = nn.Linear(128, 256) \n",
    "        self.fc3 = nn.Linear(256, 512)\n",
    "        self.fc4 = nn.Linear(512, 1024)\n",
    "        self.fc5 = nn.Linear(1024, 512)  \n",
    "        self.fc6 = nn.Linear(512, 256)\n",
    "        self.fc7 = nn.Linear(256, 128)  \n",
    "        self.fc8  = nn.Linear(128,58)\n",
    "        self.fc9  = nn.Linear(58,1)\n",
    "        \n",
    "    def forward(self, x):\n",
    "        x = self.fc1(x)\n",
    "        x = F.relu(x)\n",
    "        x = self.fc2(x)\n",
    "        x = F.relu(x)\n",
    "        x = self.fc3(x)\n",
    "        x = F.relu(x)\n",
    "        x = self.fc4(x)\n",
    "        x = F.relu(x)\n",
    "        x = self.fc5(x)\n",
    "        x = F.relu(x)\n",
    "        x = self.fc6(x)\n",
    "        x = F.relu(x)\n",
    "        x = self.fc7(x)\n",
    "        x = F.relu(x)\n",
    "        x = self.fc8(x)\n",
    "        x = F.relu(x)\n",
    "        x = self.fc9(x)\n",
    "        return x"
   ]
  },
  {
   "cell_type": "code",
   "execution_count": 19,
   "metadata": {},
   "outputs": [
    {
     "name": "stdout",
     "output_type": "stream",
     "text": [
      "Classifier(\n",
      "  (fc1): Linear(in_features=58, out_features=128, bias=True)\n",
      "  (fc2): Linear(in_features=128, out_features=256, bias=True)\n",
      "  (fc3): Linear(in_features=256, out_features=512, bias=True)\n",
      "  (fc4): Linear(in_features=512, out_features=1024, bias=True)\n",
      "  (fc5): Linear(in_features=1024, out_features=512, bias=True)\n",
      "  (fc6): Linear(in_features=512, out_features=256, bias=True)\n",
      "  (fc7): Linear(in_features=256, out_features=128, bias=True)\n",
      "  (fc8): Linear(in_features=128, out_features=58, bias=True)\n",
      "  (fc9): Linear(in_features=58, out_features=1, bias=True)\n",
      ")\n",
      "cpu\n"
     ]
    }
   ],
   "source": [
    "#Instancia tu modelo\n",
    "model = Classifier()\n",
    "print(model)\n",
    "device = torch.device('cuda' if torch.cuda.is_available() else 'cpu')\n",
    "print(device)\n",
    "if train_on_gpu:\n",
    "    model.cuda()"
   ]
  },
  {
   "cell_type": "markdown",
   "metadata": {},
   "source": [
    "## Entrenando la red\n",
    "\n",
    "Aquí establecerás los hiperparámetros para la red. La estrategia aquí es encontrar hiperparámetros de modo que el error en el conjunto de entrenamiento sea bajo, pero no se esté sobreajustando a los datos. Si entrenas la red demasiado tiempo o tiene demasiados nodos ocultos, puede volverse demasiado específica para el conjunto de entrenamiento y no podrá generalizarse al conjunto de validación. Es decir, la pérdida en el conjunto de validación comenzará a aumentar a medida que disminuya la pérdida del conjunto de entrenamiento.\n",
    "\n",
    "También utilizarás un método conocido como Stochastic Gradient Descent (SGD) para entrenar la red. La idea es que para cada pase de entrenamiento, tome una muestra aleatoria de los datos en lugar de usar todo el conjunto de datos. Utiliza muchas más pasadas de entrenamiento que con el normal gradient descent, pero cada pasada es mucho más rápida. Esto termina entrenando la red de manera más eficiente. \n",
    "\n",
    "### Elija el número de iteraciones (epócas)\n",
    "Este es el número de lotes de muestras de los datos de entrenamiento que usaremos para entrenar la red. Cuantas más iteraciones utilices, mejor se ajustará el modelo a los datos. Sin embargo, este proceso puede tener rendimientos decrecientes y puede desperdiciar recursos computacionales si utiliza demasiadas iteraciones. Aquí deseas encontrar un número en el que la red tenga una pérdida de entrenamiento baja y la pérdida de validación sea mínima. El número ideal de iteraciones sería un nivel que se detenga poco después de que la pérdida de validación deje de disminuir.\n",
    "\n",
    "### Elija la tasa de aprendizaje\n",
    "Esto escala el tamaño de las actualizaciones de peso. Si es demasiado grande, los pesos tienden a explotar y la red no logra ajustar los datos. Normalmente, una buena opción para empezar es 0.1. Si la red tiene problemas para ajustar los datos, intenta reducir la tasa de aprendizaje. Ten en cuenta que cuanto menor sea la tasa de aprendizaje, menores serán los pasos en las actualizaciones de peso y más tiempo tardará la red neuronal en converger.\n",
    "\n",
    "### Elige el número de nodos ocultos\n",
    "En un modelo donde todos los pesos están optimizados, cuantos más nodos ocultos tenga, más precisas serán las predicciones del modelo. Sin embargo, cuantos más nodos ocultos tenga, más difícil será optimizar los pesos del modelo y más probable será que los pesos subóptimos conduzcan a sobreajuste. Con el sobreajuste, el modelo memorizará los datos de entrenamiento en lugar de aprender el patrón verdadero y no generalizará bien a los datos no vistos.\n",
    "\n",
    "Prueba algunos números diferentes y mira cómo afecta el rendimiento. Si el número de unidades ocultas es demasiado bajo, el modelo no tendrá suficiente espacio para aprender y si es demasiado alto, habrá demasiadas opciones para la dirección que puede tomar el aprendizaje. El truco aquí es encontrar el equilibrio correcto en la cantidad de unidades ocultas que elijas. En general, encontrará que la mejor cantidad de nodos ocultos para usar termina estando entre la cantidad de nodos de entrada y salida."
   ]
  },
  {
   "cell_type": "markdown",
   "metadata": {},
   "source": [
    "### 2- Define la función de costo y el optimizador\n",
    "Recuerda que es un problema de regresión"
   ]
  },
  {
   "cell_type": "code",
   "execution_count": 20,
   "metadata": {},
   "outputs": [],
   "source": [
    "#Define la función de costo\n",
    "criterion = nn.MSELoss()\n",
    "#Define el optimizador\n",
    "optimizer = optim.Adam(model.parameters(), lr = 1e-3)\n"
   ]
  },
  {
   "cell_type": "markdown",
   "metadata": {},
   "source": [
    "### 3- Entrena el modelo\n",
    "Recuerda que aquí puedes usar la técnica \"stop learning\" (revisa los cuadernos de las clases)"
   ]
  },
  {
   "cell_type": "code",
   "execution_count": 22,
   "metadata": {},
   "outputs": [
    {
     "name": "stdout",
     "output_type": "stream",
     "text": [
      "Epoch: 1 \tTraining Loss: 0.037901 \tValidation Loss: 0.052329\n",
      "Validation loss decreased (inf --> 0.052329).  Saving model ...\n",
      "Epoch: 2 \tTraining Loss: 0.014202 \tValidation Loss: 0.012041\n",
      "Validation loss decreased (0.052329 --> 0.012041).  Saving model ...\n",
      "Epoch: 3 \tTraining Loss: 0.012942 \tValidation Loss: 0.002608\n",
      "Validation loss decreased (0.012041 --> 0.002608).  Saving model ...\n",
      "Epoch: 4 \tTraining Loss: 0.011769 \tValidation Loss: 0.277009\n",
      "Epoch: 5 \tTraining Loss: 0.007217 \tValidation Loss: 0.002336\n",
      "Validation loss decreased (0.002608 --> 0.002336).  Saving model ...\n",
      "Epoch: 6 \tTraining Loss: 0.007915 \tValidation Loss: 0.121958\n",
      "Epoch: 7 \tTraining Loss: 0.008227 \tValidation Loss: 0.003078\n",
      "Epoch: 8 \tTraining Loss: 0.007662 \tValidation Loss: 0.003428\n",
      "Epoch: 9 \tTraining Loss: 0.005431 \tValidation Loss: 0.019589\n",
      "Epoch: 10 \tTraining Loss: 0.003810 \tValidation Loss: 0.006003\n",
      "Epoch: 11 \tTraining Loss: 0.005054 \tValidation Loss: 0.027671\n",
      "Epoch: 12 \tTraining Loss: 0.005795 \tValidation Loss: 0.025031\n",
      "Epoch: 13 \tTraining Loss: 0.004148 \tValidation Loss: 0.001981\n",
      "Validation loss decreased (0.002336 --> 0.001981).  Saving model ...\n",
      "Epoch: 14 \tTraining Loss: 0.004694 \tValidation Loss: 0.005217\n",
      "Epoch: 15 \tTraining Loss: 0.003236 \tValidation Loss: 0.004129\n",
      "Epoch: 16 \tTraining Loss: 0.003809 \tValidation Loss: 0.004432\n",
      "Epoch: 17 \tTraining Loss: 0.003674 \tValidation Loss: 0.010213\n",
      "Epoch: 18 \tTraining Loss: 0.002479 \tValidation Loss: 0.002985\n",
      "Epoch: 19 \tTraining Loss: 0.003643 \tValidation Loss: 0.003396\n",
      "Epoch: 20 \tTraining Loss: 0.002953 \tValidation Loss: 0.010513\n",
      "Epoch: 21 \tTraining Loss: 0.002304 \tValidation Loss: 0.002103\n",
      "Epoch: 22 \tTraining Loss: 0.003638 \tValidation Loss: 0.011270\n",
      "Epoch: 23 \tTraining Loss: 0.002065 \tValidation Loss: 0.004484\n",
      "Epoch: 24 \tTraining Loss: 0.003737 \tValidation Loss: 0.008844\n",
      "Epoch: 25 \tTraining Loss: 0.003546 \tValidation Loss: 0.007258\n"
     ]
    }
   ],
   "source": [
    "# Número de épocas del modelo\n",
    "n_epochs = 25\n",
    "\n",
    "valid_loss_min = np.Inf # Valor inicial de la función de pérdida\n",
    "train_graph=[]\n",
    "valid_graph=[]\n",
    "\n",
    "for epoch in range(1, n_epochs+1):\n",
    "\n",
    "    train_loss = 0.0\n",
    "    valid_loss = 0.0\n",
    "    \n",
    "    ############################\n",
    "    # Entrenamiento del modelo #\n",
    "    ############################\n",
    "    model.train()\n",
    "    for batch_idx, (data, target) in enumerate(train_loader):\n",
    "        # Se pasan os tensores a GPU si están disponibles\n",
    "        if train_on_gpu:\n",
    "            data, target = data.cuda(), target.cuda()\n",
    "        # Se reinician los gradientes\n",
    "        optimizer.zero_grad()\n",
    "        # Predicción\n",
    "        output = model(data)\n",
    "        # Cálculo de la función de pérdida\n",
    "        loss = criterion(output, target)\n",
    "        # Computariza los gradientes\n",
    "        loss.backward()\n",
    "        # Actualiza los pesos\n",
    "        optimizer.step()\n",
    "        # Acumula la función de pérdida\n",
    "        train_loss += loss.item()*data.size(0)\n",
    "        \n",
    "    #########################    \n",
    "    # Validación del modelo #\n",
    "    #########################\n",
    "    model.eval()\n",
    "    for batch_idx, (data, target) in enumerate(valid_loader):\n",
    "        if train_on_gpu:\n",
    "            data, target = data.cuda(), target.cuda()\n",
    "        output = model(data)\n",
    "        loss = criterion(output, target)\n",
    "        valid_loss += loss.item()*data.size(0)\n",
    "    \n",
    "    # Se cálcula la media de la función de pérdida\n",
    "    train_loss = train_loss/len(train_loader.sampler)\n",
    "    valid_loss = valid_loss/len(valid_loader.sampler)\n",
    "    train_graph.append(train_loss)\n",
    "    valid_graph.append(valid_loss)  \n",
    "    # Muestra de datos\n",
    "    print('Epoch: {} \\tTraining Loss: {:.6f} \\tValidation Loss: {:.6f}'.format(\n",
    "        epoch, train_loss, valid_loss))\n",
    "    \n",
    "    #Se guarda el mejor modelo\n",
    "    if valid_loss <= valid_loss_min:\n",
    "        print('Validation loss decreased ({:.6f} --> {:.6f}).  Saving model ...'.format(\n",
    "        valid_loss_min,\n",
    "        valid_loss))\n",
    "        torch.save(model.state_dict(), 'model_augmented.pt')\n",
    "        valid_loss_min = valid_loss"
   ]
  },
  {
   "cell_type": "markdown",
   "metadata": {},
   "source": [
    "### 4- Visualiza las cuevas de error de entrenamiento y validación"
   ]
  },
  {
   "cell_type": "code",
   "execution_count": 23,
   "metadata": {},
   "outputs": [
    {
     "data": {
      "text/plain": [
       "<matplotlib.legend.Legend at 0x2cf61243240>"
      ]
     },
     "execution_count": 23,
     "metadata": {},
     "output_type": "execute_result"
    },
    {
     "data": {
      "image/png": "[encoded data removed]",
      "text/plain": [
       "<Figure size 432x288 with 1 Axes>"
      ]
     },
     "metadata": {
      "image/png": {
       "height": 248,
       "width": 382
      },
      "needs_background": "light"
     },
     "output_type": "display_data"
    }
   ],
   "source": [
    "#Visualiza los errores de entrenamiento y validación\n",
    "plt.plot(train_graph, label='Training loss')\n",
    "plt.plot(valid_graph, label='Validation loss')\n",
    "plt.legend(frameon=False)"
   ]
  },
  {
   "cell_type": "markdown",
   "metadata": {},
   "source": [
    "## 5- Consulta tus pronósticos\n",
    "\n",
    "Aquí, usa los datos de testeo para ver qué tan bien tu red está modelando los datos. Si algo está completamente mal aquí, asegúrate de que cada paso en tu red se implemente correctamente."
   ]
  },
  {
   "cell_type": "code",
   "execution_count": 24,
   "metadata": {},
   "outputs": [
    {
     "name": "stdout",
     "output_type": "stream",
     "text": [
      "odict_keys(['fc1.weight', 'fc1.bias', 'fc2.weight', 'fc2.bias', 'fc3.weight', 'fc3.bias', 'fc4.weight', 'fc4.bias', 'fc5.weight', 'fc5.bias', 'fc6.weight', 'fc6.bias', 'fc7.weight', 'fc7.bias', 'fc8.weight', 'fc8.bias', 'fc9.weight', 'fc9.bias'])\n",
      "Classifier(\n",
      "  (fc1): Linear(in_features=58, out_features=128, bias=True)\n",
      "  (fc2): Linear(in_features=128, out_features=256, bias=True)\n",
      "  (fc3): Linear(in_features=256, out_features=512, bias=True)\n",
      "  (fc4): Linear(in_features=512, out_features=1024, bias=True)\n",
      "  (fc5): Linear(in_features=1024, out_features=512, bias=True)\n",
      "  (fc6): Linear(in_features=512, out_features=256, bias=True)\n",
      "  (fc7): Linear(in_features=256, out_features=128, bias=True)\n",
      "  (fc8): Linear(in_features=128, out_features=58, bias=True)\n",
      "  (fc9): Linear(in_features=58, out_features=1, bias=True)\n",
      ")\n"
     ]
    }
   ],
   "source": [
    "#Pasa los datos de testeo por tu modelo pre-entrenado\n",
    "state_dict = torch.load('model_augmented.pt')\n",
    "print(state_dict.keys())\n",
    "model.load_state_dict(state_dict)\n",
    "print(model)\n",
    "predictions=[]\n",
    "test_loss=0.0\n",
    "model.eval()\n",
    "for batch_idx, (data, target) in enumerate(test_loader):\n",
    "        if train_on_gpu:\n",
    "            data, target = data.cuda(), target.cuda()\n",
    "        output = model(data)\n",
    "        if train_on_gpu:\n",
    "            predictions=predictions+output.cpu().tolist()\n",
    "        else:\n",
    "            predictions=predictions+output.tolist()\n",
    "        loss = criterion(output, target)\n",
    "        test_loss += loss.item()*data.size(0)\n",
    "    \n",
    "test_loss = test_loss/len(test_loader.sampler)\n"
   ]
  },
  {
   "cell_type": "markdown",
   "metadata": {},
   "source": [
    "### 6- Descalar y Visualiza las curvas de las predicciones vs los valores reales"
   ]
  },
  {
   "cell_type": "markdown",
   "metadata": {},
   "source": [
    "Según los resultados obtenidos, se concluye que el modelo de prediccón es adecuado para obtener los valores requeridos, ya que los valores predichos se acercan mucho a los valores reales."
   ]
  },
  {
   "cell_type": "code",
   "execution_count": 51,
   "metadata": {},
   "outputs": [
    {
     "data": {
      "text/plain": [
       "<matplotlib.legend.Legend at 0x2cf6cde65f8>"
      ]
     },
     "execution_count": 51,
     "metadata": {},
     "output_type": "execute_result"
    },
    {
     "data": {
      "image/png": "[encoded data removed]",
      "text/plain": [
       "<Figure size 432x288 with 1 Axes>"
      ]
     },
     "metadata": {
      "image/png": {
       "height": 248,
       "width": 375
      },
      "needs_background": "light"
     },
     "output_type": "display_data"
    }
   ],
   "source": [
    "if normalization == 'mean_std':\n",
    "    scaled_predictions=np.asarray(predictions)*scaled_features['cnt'][1] + scaled_features['cnt'][0] \n",
    "    plt.plot(test_targets_np*scaled_features['cnt'][1] + scaled_features['cnt'][0], label='Reales')\n",
    "    plt.plot(scaled_predictions, label='predictions', alpha = 0.8)\n",
    "    plt.legend(frameon=False)\n",
    "else:\n",
    "    scaled_predictions=np.squeeze(np.asarray(predictions))*scaled_features['cnt']\n",
    "    plt.plot(scaled_predictions, label='predictions')\n",
    "    plt.plot(test_targets_np*scaled_features['cnt'], label='Reales')\n",
    "    plt.legend(frameon=False)\n"
   ]
  }
 ],
 "metadata": {
  "anaconda-cloud": {},
  "kernelspec": {
   "display_name": "Python 3 (ipykernel)",
   "language": "python",
   "name": "python3"
  },
  "language_info": {
   "codemirror_mode": {
    "name": "ipython",
    "version": 3
   },
   "file_extension": ".py",
   "mimetype": "text/x-python",
   "name": "python",
   "nbconvert_exporter": "python",
   "pygments_lexer": "ipython3",
   "version": "3.6.13"
  },
  "vscode": {
   "interpreter": {
    "hash": "3b34821c144b8c76800a90811dcbd41f4108176e6c128396250549ca1c895441"
   }
  }
 },
 "nbformat": 4,
 "nbformat_minor": 4
}
